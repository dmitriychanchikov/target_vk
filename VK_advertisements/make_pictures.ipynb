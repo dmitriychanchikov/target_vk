{
 "cells": [
  {
   "cell_type": "markdown",
   "id": "a6b05b6b",
   "metadata": {},
   "source": [
    "Импорт библиотек и модулей (запускаем 1 раз)"
   ]
  },
  {
   "cell_type": "code",
   "execution_count": 1,
   "id": "35b557e5",
   "metadata": {},
   "outputs": [],
   "source": [
    "from utils.pictures import *"
   ]
  },
  {
   "cell_type": "markdown",
   "id": "9b2e8625",
   "metadata": {},
   "source": [
    "Настройка параметров (запускаем каждый раз при изменении значений)"
   ]
  },
  {
   "cell_type": "code",
   "execution_count": null,
   "id": "79331424",
   "metadata": {},
   "outputs": [],
   "source": [
    "template_path = 'pictures/13_template.png'        # не меняем\n",
    "font_path = 'fonts/ofont.ru_Impact.ttf'           # не меняем\n",
    "names_path = 'data/2025_07_08/input/names.xlsx'   # указываем путь к экселю в папке /input\n",
    "photo_dir = 'data/2025_07_08/input/photos'        # указываем путь целевой папке для картинок в папке /input"
   ]
  },
  {
   "cell_type": "markdown",
   "id": "d55ab63e",
   "metadata": {},
   "source": [
    "Чтение имен (запускаем каждый раз при изменении значений)"
   ]
  },
  {
   "cell_type": "code",
   "execution_count": null,
   "id": "2638aeee",
   "metadata": {},
   "outputs": [],
   "source": [
    "names_to_make_pictures = pd.read_excel(names_path, header=None)\n",
    "names_to_make_pictures"
   ]
  },
  {
   "cell_type": "markdown",
   "id": "7dd3c427",
   "metadata": {},
   "source": [
    "Основной цикл (запускаем каждый раз при изменении значений)"
   ]
  },
  {
   "cell_type": "code",
   "execution_count": null,
   "id": "8279697e",
   "metadata": {},
   "outputs": [],
   "source": [
    "pipeline(names_to_make_pictures, template_path, font_path, photo_dir)"
   ]
  },
  {
   "cell_type": "code",
   "execution_count": null,
   "id": "d5f7082d",
   "metadata": {},
   "outputs": [],
   "source": []
  }
 ],
 "metadata": {
  "kernelspec": {
   "display_name": ".venv",
   "language": "python",
   "name": "python3"
  },
  "language_info": {
   "codemirror_mode": {
    "name": "ipython",
    "version": 3
   },
   "file_extension": ".py",
   "mimetype": "text/x-python",
   "name": "python",
   "nbconvert_exporter": "python",
   "pygments_lexer": "ipython3",
   "version": "3.11.5"
  }
 },
 "nbformat": 4,
 "nbformat_minor": 5
}
