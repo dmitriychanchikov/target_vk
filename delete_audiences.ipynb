{
 "cells": [
  {
   "cell_type": "markdown",
   "id": "177c6552",
   "metadata": {},
   "source": [
    "Импорт библиотек и модулей (запускаем 1 раз)"
   ]
  },
  {
   "cell_type": "code",
   "execution_count": 1,
   "id": "0b4e6234",
   "metadata": {},
   "outputs": [],
   "source": [
    "from utils.delete import *"
   ]
  },
  {
   "cell_type": "markdown",
   "id": "b7e73630",
   "metadata": {},
   "source": [
    "Настройка параметров (запускаем каждый раз при изменении значений)\n",
    "\n",
    "ВНИМАТЕЛЬНО ПРОВЕРЯЕМ ЗНАЧЕНИЯ!"
   ]
  },
  {
   "cell_type": "code",
   "execution_count": null,
   "id": "a92ae271",
   "metadata": {},
   "outputs": [],
   "source": [
    "excel_file = 'to_delete.xlsx'   # в этот файл помещаем нужные имена\n",
    "current_date = '2025-05-15'     # указываем, до какой даты (включительно) нужно удалить"
   ]
  },
  {
   "cell_type": "markdown",
   "id": "1abbd231",
   "metadata": {},
   "source": [
    "Оставляем незакомментированной строку с нужным кабинетом (запускаем каждый раз при изменении значений)"
   ]
  },
  {
   "cell_type": "code",
   "execution_count": null,
   "id": "5026a6a2",
   "metadata": {},
   "outputs": [],
   "source": [
    "url = 'https://vk.com/ads?act=retargeting&union_id=1608413111'  # 1 Полина\n",
    "# url = 'https://vk.com/ads?act=retargeting&union_id=1608426792'  # 5 Полина2\n",
    "# url = 'https://vk.com/ads?act=retargeting&union_id=1608429820'  # 4 Полина3\n",
    "# url = 'https://vk.com/ads?act=retargeting&union_id=1608443472'  # 1 Полина4\n",
    "# url = 'https://vk.com/ads?act=retargeting&union_id=1608454152'  # 3 Полина 5\n",
    "# url = 'https://vk.com/ads?act=retargeting&union_id=1608460747'  # 2 Полина 7\n",
    "# url = 'https://vk.com/ads?act=retargeting&union_id=1608399616'  # 1 Полина 8\n",
    "# url = 'https://vk.com/ads?act=retargeting&union_id=1608467167'  # 5 Полина 9\n",
    "# url = 'https://vk.com/ads?act=retargeting&union_id=1608471786'  # 1 Полина 10"
   ]
  },
  {
   "cell_type": "markdown",
   "id": "d5e3e0dc",
   "metadata": {},
   "source": [
    "Чтение имен (запускаем каждый раз при изменении значений)"
   ]
  },
  {
   "cell_type": "code",
   "execution_count": null,
   "id": "70ac3e24",
   "metadata": {},
   "outputs": [],
   "source": [
    "names_to_delete = pd.read_excel(excel_file, header=None)\n",
    "names_to_delete"
   ]
  },
  {
   "cell_type": "markdown",
   "id": "e252a5a3",
   "metadata": {},
   "source": [
    "Загрузка браузера (запускаем 1 раз)"
   ]
  },
  {
   "cell_type": "code",
   "execution_count": null,
   "id": "b08dfe57",
   "metadata": {},
   "outputs": [],
   "source": [
    "driver = load_webdriver()\n",
    "load_website(driver, 'https://vk.com')"
   ]
  },
  {
   "cell_type": "markdown",
   "id": "1f4e9bd2",
   "metadata": {},
   "source": [
    "ЗАХОДИМ В VK ЛЮБЫМ УДОБНЫМ СПОСОБОМ!"
   ]
  },
  {
   "cell_type": "markdown",
   "id": "a7a944e7",
   "metadata": {},
   "source": [
    "НАХОДИМ НУЖНЫЙ КАБИНЕТ И ПЕРЕХОДИМ ВО ВКЛАДКУ \"РЕТАРГЕТИНГ\""
   ]
  },
  {
   "cell_type": "markdown",
   "id": "b2fb7e6d",
   "metadata": {},
   "source": [
    "Основной цикл (запускаем каждый раз при изменении значений)"
   ]
  },
  {
   "cell_type": "code",
   "execution_count": null,
   "id": "d5f83d30",
   "metadata": {},
   "outputs": [],
   "source": [
    "load_website(driver, url)\n",
    "\n",
    "current_date_f = datetime.strptime(current_date, '%Y-%m-%d').date()\n",
    "\n",
    "deleted, not_found, with_error = [], [], []\n",
    "\n",
    "for i, row in names_to_delete.iterrows():\n",
    "    # По умолчанию начинаем с 0. Если нужно начать не с 0, то указываем стартовый индекс\n",
    "    # Тогда строки до этого индекса (не включительно) будут пропущены\n",
    "    if i < 0:\n",
    "        continue\n",
    "\n",
    "    name = row[0].split(' ')[0]\n",
    "\n",
    "    pipeline(driver, name, current_date_f, deleted, not_found, with_error, i)"
   ]
  },
  {
   "cell_type": "markdown",
   "id": "372ef721",
   "metadata": {},
   "source": [
    "Просмотр имен, которые не найдены (запускаем при необходимости)"
   ]
  },
  {
   "cell_type": "code",
   "execution_count": null,
   "id": "36de02a1",
   "metadata": {},
   "outputs": [],
   "source": [
    "for n in not_found:\n",
    "    print(n)"
   ]
  },
  {
   "cell_type": "markdown",
   "id": "63d90aa5",
   "metadata": {},
   "source": [
    "Просмотр имен с ошибкой при удалении (запускаем при необходимости)"
   ]
  },
  {
   "cell_type": "code",
   "execution_count": null,
   "id": "df303b76",
   "metadata": {},
   "outputs": [],
   "source": [
    "for n in with_error:\n",
    "    print(n)"
   ]
  },
  {
   "cell_type": "code",
   "execution_count": null,
   "id": "b54d0601",
   "metadata": {},
   "outputs": [],
   "source": []
  }
 ],
 "metadata": {
  "kernelspec": {
   "display_name": ".venv",
   "language": "python",
   "name": "python3"
  },
  "language_info": {
   "codemirror_mode": {
    "name": "ipython",
    "version": 3
   },
   "file_extension": ".py",
   "mimetype": "text/x-python",
   "name": "python",
   "nbconvert_exporter": "python",
   "pygments_lexer": "ipython3",
   "version": "3.11.5"
  }
 },
 "nbformat": 4,
 "nbformat_minor": 5
}
