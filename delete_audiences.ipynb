{
 "cells": [
  {
   "cell_type": "markdown",
   "id": "177c6552",
   "metadata": {},
   "source": [
    "Импорт библиотек и модулей (запускаем всегда)"
   ]
  },
  {
   "cell_type": "code",
   "execution_count": 3,
   "id": "c0e79f49",
   "metadata": {},
   "outputs": [],
   "source": [
    "from settings.config import *\n",
    "from utils.common import *\n",
    "\n",
    "from selenium.webdriver.common.by import By\n",
    "from selenium.webdriver.support import expected_conditions as EC"
   ]
  },
  {
   "cell_type": "code",
   "execution_count": null,
   "id": "e89bb4e3",
   "metadata": {},
   "outputs": [],
   "source": [
    "def find_error(driver):\n",
    "    try:\n",
    "        error_window = WebDriverWait(driver, WAIT_TIME * 0.2).until(\n",
    "            EC.presence_of_element_located((By.XPATH, \"//div[@class='box_layout']\"))\n",
    "        )\n",
    "        if 'Ошибка' not in error_window.text:\n",
    "            return False\n",
    "        close_button = WebDriverWait(error_window, WAIT_TIME).until(\n",
    "            EC.element_to_be_clickable((By.XPATH, \".//span[text()='Закрыть']\"))\n",
    "        )\n",
    "        click_safely(close_button)\n",
    "        return True\n",
    "    \n",
    "    except (TimeoutException, Exception):\n",
    "        return False"
   ]
  },
  {
   "cell_type": "markdown",
   "id": "bbf13bb5",
   "metadata": {},
   "source": [
    "Загрузка файла (запускаем всегда)"
   ]
  },
  {
   "cell_type": "code",
   "execution_count": null,
   "id": "70ac3e24",
   "metadata": {},
   "outputs": [],
   "source": [
    "excel_file = 'to_delete.xlsx'\n",
    "\n",
    "names_to_delete = pd.read_excel(excel_file, header=None)\n",
    "names_to_delete"
   ]
  },
  {
   "cell_type": "markdown",
   "id": "e252a5a3",
   "metadata": {},
   "source": [
    "Загрузка браузера (запускаем всегда)\n",
    "\n",
    "ЗАХОДИМ В VK ЛЮБЫМ УДОБНЫМ СПОСОБОМ!"
   ]
  },
  {
   "cell_type": "code",
   "execution_count": null,
   "id": "b08dfe57",
   "metadata": {},
   "outputs": [],
   "source": [
    "driver = load_webdriver()\n",
    "load_website(driver, 'https://vk.com')"
   ]
  },
  {
   "cell_type": "markdown",
   "id": "a7a944e7",
   "metadata": {},
   "source": [
    "НАХОДИМ НУЖНЫЙ КАБИНЕТ И ПЕРЕХОДИМ ВО ВКЛАДКУ \"РЕТАРГЕТИНГ\""
   ]
  },
  {
   "cell_type": "markdown",
   "id": "7257d600",
   "metadata": {},
   "source": [
    "Основной цикл (запускаем первый раз и больше не запускаем)"
   ]
  },
  {
   "cell_type": "code",
   "execution_count": null,
   "id": "210ff98d",
   "metadata": {},
   "outputs": [],
   "source": [
    "driver.refresh()\n",
    "\n",
    "deleted, not_found, with_error = [], [], []\n",
    "\n",
    "for i, row in names_to_delete.iterrows():\n",
    "    # По умолчанию начинаем с 0. Если нужно начать не с 0, то указываем стартовый индекс\n",
    "    # Тогда строки до этого индекса (не включительно) будут пропущены\n",
    "    if i < 0:\n",
    "        continue\n",
    "\n",
    "    name = row[0]\n",
    "\n",
    "    try:\n",
    "        search_input = WebDriverWait(driver, WAIT_TIME).until(\n",
    "            EC.element_to_be_clickable((By.XPATH, \"//input[@class='ui_search_field _field']\"))\n",
    "        )\n",
    "        insert_value_safely(driver, search_input, name)\n",
    "        time.sleep(SLEEP_TIME * 0.5)\n",
    "\n",
    "        auditory_element = WebDriverWait(driver, WAIT_TIME * 0.5).until(\n",
    "            EC.element_to_be_clickable((By.XPATH, f\".//a[@class='ads_retargeting_group_actions_link'][text()='{name}']\"))\n",
    "        )\n",
    "        click_safely(auditory_element)\n",
    "\n",
    "        auditory_functions_element = WebDriverWait(driver, WAIT_TIME).until(\n",
    "            EC.element_to_be_clickable((By.XPATH, f\".//div[@class='dd_menu_rows2']\"))\n",
    "        )\n",
    "        auditory_delete_button = WebDriverWait(auditory_functions_element, WAIT_TIME).until(\n",
    "            EC.element_to_be_clickable((By.XPATH, \".//a[text()='Удалить']\"))\n",
    "        )\n",
    "        auditory_delete_button.click()\n",
    "        time.sleep(SLEEP_TIME * 0.5)\n",
    "\n",
    "        confirm_window = WebDriverWait(driver, WAIT_TIME).until(\n",
    "            EC.presence_of_element_located((By.XPATH, \"//div[@class='box_layout']\"))\n",
    "        )\n",
    "        yes_button = WebDriverWait(confirm_window, WAIT_TIME).until(\n",
    "            EC.element_to_be_clickable((By.XPATH, \".//span[text()='Да']\"))\n",
    "        )\n",
    "        click_safely(yes_button)\n",
    "\n",
    "        if find_error(driver):\n",
    "            with_error.append(name)\n",
    "            print(i, name, 'Ошибка')\n",
    "            continue\n",
    "\n",
    "        deleted.append(name)\n",
    "        print(i, name, 'Удалено')\n",
    "    \n",
    "    except (TimeoutException, Exception):\n",
    "        not_found.append(name)\n",
    "        print(i, name, 'Не найдено')\n",
    "        continue"
   ]
  },
  {
   "cell_type": "code",
   "execution_count": null,
   "id": "36de02a1",
   "metadata": {},
   "outputs": [],
   "source": [
    "for n in not_found:\n",
    "    print(n)"
   ]
  },
  {
   "cell_type": "markdown",
   "id": "c9d37843",
   "metadata": {},
   "source": [
    "Дополнительный цикл (запускаем сколько угодно раз, если есть неуспешные записи)"
   ]
  },
  {
   "cell_type": "code",
   "execution_count": null,
   "id": "d7bfb77d",
   "metadata": {},
   "outputs": [],
   "source": [
    "driver.refresh()\n",
    "\n",
    "deleted_2, not_found_2, with_error_2 = [], [], []\n",
    "\n",
    "for i, name in enumerate(not_found):\n",
    "\n",
    "    try:\n",
    "        search_input = WebDriverWait(driver, WAIT_TIME).until(\n",
    "            EC.element_to_be_clickable((By.XPATH, \"//input[@class='ui_search_field _field']\"))\n",
    "        )\n",
    "        insert_value_safely(driver, search_input, name)\n",
    "        time.sleep(SLEEP_TIME * 0.5)\n",
    "\n",
    "        auditory_element = WebDriverWait(driver, WAIT_TIME).until(\n",
    "            EC.element_to_be_clickable((By.XPATH, f\".//a[@class='ads_retargeting_group_actions_link'][text()='{name}']\"))\n",
    "        )\n",
    "        click_safely(auditory_element)\n",
    "\n",
    "        auditory_functions_element = WebDriverWait(driver, WAIT_TIME).until(\n",
    "            EC.element_to_be_clickable((By.XPATH, f\".//div[@class='dd_menu_rows2']\"))\n",
    "        )\n",
    "        auditory_delete_button = WebDriverWait(auditory_functions_element, WAIT_TIME).until(\n",
    "            EC.element_to_be_clickable((By.XPATH, \".//a[text()='Удалить']\"))\n",
    "        )\n",
    "        auditory_delete_button.click()\n",
    "        time.sleep(SLEEP_TIME * 0.5)\n",
    "\n",
    "        confirm_window = WebDriverWait(driver, WAIT_TIME).until(\n",
    "            EC.presence_of_element_located((By.XPATH, \"//div[@class='box_layout']\"))\n",
    "        )\n",
    "        yes_button = WebDriverWait(confirm_window, WAIT_TIME).until(\n",
    "            EC.element_to_be_clickable((By.XPATH, \".//span[text()='Да']\"))\n",
    "        )\n",
    "        click_safely(yes_button)\n",
    "        \n",
    "        if find_error(driver):\n",
    "            with_error_2.append(name)\n",
    "            print(i, name, 'Ошибка')\n",
    "\n",
    "        deleted_2.append(name)\n",
    "        print(i, name, 'Удалено')\n",
    "    \n",
    "    except (TimeoutException, Exception):\n",
    "        not_found_2.append(name)\n",
    "        print(i, name, 'Не найдено')\n",
    "        continue"
   ]
  },
  {
   "cell_type": "code",
   "execution_count": null,
   "id": "a5078a4d",
   "metadata": {},
   "outputs": [],
   "source": [
    "for n in not_found_2:\n",
    "    print(n)"
   ]
  },
  {
   "cell_type": "code",
   "execution_count": null,
   "id": "b54d0601",
   "metadata": {},
   "outputs": [],
   "source": []
  }
 ],
 "metadata": {
  "kernelspec": {
   "display_name": ".venv",
   "language": "python",
   "name": "python3"
  },
  "language_info": {
   "codemirror_mode": {
    "name": "ipython",
    "version": 3
   },
   "file_extension": ".py",
   "mimetype": "text/x-python",
   "name": "python",
   "nbconvert_exporter": "python",
   "pygments_lexer": "ipython3",
   "version": "3.11.5"
  }
 },
 "nbformat": 4,
 "nbformat_minor": 5
}
