{
 "cells": [
  {
   "cell_type": "markdown",
   "id": "177c6552",
   "metadata": {},
   "source": [
    "Импорт библиотек и модулей (запускаем 1 раз)"
   ]
  },
  {
   "cell_type": "code",
   "execution_count": 1,
   "id": "c0e79f49",
   "metadata": {},
   "outputs": [],
   "source": [
    "from settings.config import *\n",
    "from utils.common import *\n",
    "from utils.for_ad import *\n",
    "from utils.for_note import *\n",
    "from utils.pipelines import *"
   ]
  },
  {
   "cell_type": "markdown",
   "id": "bbf13bb5",
   "metadata": {},
   "source": [
    "Настройка параметров (запускаем каждый раз при изменении значений)\n",
    "\n",
    "ВНИМАТЕЛЬНО ПРОВЕРЯЕМ ЗНАЧЕНИЯ!"
   ]
  },
  {
   "cell_type": "code",
   "execution_count": 8,
   "id": "1958008b",
   "metadata": {},
   "outputs": [],
   "source": [
    "input_dir = 'data/2025_07_11/2/input'\n",
    "\n",
    "sign_path = 'pictures/sign.png'\n",
    "\n",
    "# message = 'Узнать цену часов!'\n",
    "message = 'Узнать стоимость часов!'\n",
    "# message = 'Запросить стоимость часов!'\n",
    "\n",
    "pattern = ''  # для женщин всегда пустая строка\n",
    "# pattern = 'Каждый {} должен'\n",
    "# pattern = 'для мужчины с именем {}!'\n",
    "# pattern = 'Каждый мужчина с фамилией {} должен'"
   ]
  },
  {
   "cell_type": "markdown",
   "id": "b2fac73a",
   "metadata": {},
   "source": [
    "Чтение имен (запускаем каждый раз при изменении значений)"
   ]
  },
  {
   "cell_type": "code",
   "execution_count": null,
   "id": "494e6e8b",
   "metadata": {},
   "outputs": [],
   "source": [
    "input_df = process_input_data(input_dir, sign_path, message, pattern)\n",
    "input_df.to_excel(f'{input_dir}/names_data.xlsx')\n",
    "input_df"
   ]
  },
  {
   "cell_type": "markdown",
   "id": "e252a5a3",
   "metadata": {},
   "source": [
    "Загрузка браузера (запускаем 1 раз)\n",
    "\n",
    "ЗАХОДИМ В VK ЛЮБЫМ УДОБНЫМ СПОСОБОМ!"
   ]
  },
  {
   "cell_type": "code",
   "execution_count": null,
   "id": "b08dfe57",
   "metadata": {},
   "outputs": [],
   "source": [
    "driver = load_webdriver()\n",
    "load_website(driver, 'https://vk.com')"
   ]
  },
  {
   "cell_type": "markdown",
   "id": "7257d600",
   "metadata": {},
   "source": [
    "Основной цикл (запускаем каждый раз при изменении значений)"
   ]
  },
  {
   "cell_type": "code",
   "execution_count": null,
   "id": "04abe78f",
   "metadata": {},
   "outputs": [],
   "source": [
    "#TODO сделать единые success и failure файлы \n",
    "success_file, failure_file = init_output_dir(input_dir)\n",
    "\n",
    "for index, row in input_df.iterrows():\n",
    "    # По умолчанию начинаем с 0. Если нужно начать не с 0, то указываем стартовый индекс\n",
    "    # Тогда строки до этого индекса (не включительно) будут пропущены\n",
    "    if index < 0:  \n",
    "        continue\n",
    "\n",
    "    print()\n",
    "    abs_data = row.to_dict()\n",
    "\n",
    "    if main_pipeline(driver, abs_data):\n",
    "        save_dict_to_json(abs_data, success_file)\n",
    "    else:\n",
    "        save_dict_to_json(abs_data, failure_file)"
   ]
  },
  {
   "cell_type": "code",
   "execution_count": null,
   "id": "63da398f",
   "metadata": {},
   "outputs": [],
   "source": []
  }
 ],
 "metadata": {
  "kernelspec": {
   "display_name": ".venv",
   "language": "python",
   "name": "python3"
  },
  "language_info": {
   "codemirror_mode": {
    "name": "ipython",
    "version": 3
   },
   "file_extension": ".py",
   "mimetype": "text/x-python",
   "name": "python",
   "nbconvert_exporter": "python",
   "pygments_lexer": "ipython3",
   "version": "3.11.5"
  }
 },
 "nbformat": 4,
 "nbformat_minor": 5
}
